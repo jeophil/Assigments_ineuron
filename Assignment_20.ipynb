{
 "cells": [
  {
   "cell_type": "markdown",
   "metadata": {},
   "source": [
    "Set the variable test1 to the string &#39;This is a test of the emergency text system,&#39; and save test1 to a\n",
    "file named test.txt."
   ]
  },
  {
   "cell_type": "code",
   "execution_count": 33,
   "metadata": {},
   "outputs": [],
   "source": [
    "test1 = \"This is a test of the emergency text system\""
   ]
  },
  {
   "cell_type": "code",
   "execution_count": 34,
   "metadata": {},
   "outputs": [],
   "source": [
    "f = open(\"test.txt\", \"w\")\n",
    "f.write(test1)\n",
    "f.close()\n",
    "\n"
   ]
  },
  {
   "cell_type": "markdown",
   "metadata": {},
   "source": [
    "Read the contents of the file test.txt into the variable test2. Is there a difference between test 1\n",
    "and test 2?"
   ]
  },
  {
   "cell_type": "code",
   "execution_count": 35,
   "metadata": {},
   "outputs": [
    {
     "data": {
      "text/plain": [
       "'This is a test of the emergency text system'"
      ]
     },
     "execution_count": 35,
     "metadata": {},
     "output_type": "execute_result"
    }
   ],
   "source": [
    "f = open(\"test.txt\", \"r\")\n",
    "test2 = f.read()\n",
    "test2"
   ]
  },
  {
   "cell_type": "markdown",
   "metadata": {},
   "source": [
    "Create a CSV file called books.csv by using these lines:\n",
    "title,author,year\n",
    "'The Weirdstone of Brisingamen','Alan Garner','1960'\n",
    "'Perdido Street Station','China Miéville','2000'\n",
    "'Thud!','Terry Pratchett','2005'\n",
    "'The Spellman Files','Lisa Lutz','2007'\n",
    "'Small Gods','Terry Pratchett','1992'"
   ]
  },
  {
   "cell_type": "code",
   "execution_count": 36,
   "metadata": {},
   "outputs": [],
   "source": [
    "import csv\n",
    "\n",
    "fields = [\"title\",\"author\", \"author\"]\n",
    "\n",
    "rows = [['The Weirdstone of Brisingamen','Alan Garner','1960'],['Perdido Street Station','China Miéville','2000'],['Thud!','Terry Pratchett','2005'],['The Spellman Files','Lisa Lutz','2007'],['Small Gods','Terry Pratchett','1992']]\n",
    "\n",
    "filename = \"book.csv\"\n",
    "\n",
    "# writing to csv file \n",
    "with open(filename, 'w') as csvfile: \n",
    "    # creating a csv writer object \n",
    "    csvwriter = csv.writer(csvfile) \n",
    "        \n",
    "    # writing the fields \n",
    "    csvwriter.writerow(fields) \n",
    "        \n",
    "    # writing the data rows \n",
    "    csvwriter.writerows(rows)\n",
    "\n"
   ]
  },
  {
   "cell_type": "markdown",
   "metadata": {},
   "source": [
    "Use the sqlite3 module to create a SQLite database called books.db, and a table called books with\n",
    "these fields: title (text), author (text), and year (integer)."
   ]
  },
  {
   "cell_type": "code",
   "execution_count": 1,
   "metadata": {},
   "outputs": [],
   "source": [
    "import sqlite3\n",
    "\n",
    "conn = sqlite3.connect(\"book3.db\")\n",
    "\n",
    "c =  conn.cursor()\n",
    "\n",
    "c.execute(\"\"\"CREATE TABLE book3 (title text,\n",
    "author text,\n",
    "year integer)\"\"\")\n",
    "\n",
    "c.execute(\"INSERT INTO book3 VALUES ('The Weirdstone of Brisingamen', 'Alan Garner', '1960')\")\n",
    "\n",
    "conn.commit()\n",
    "conn.close()"
   ]
  },
  {
   "cell_type": "markdown",
   "metadata": {},
   "source": [
    "Read books.csv and insert its data into the book table."
   ]
  },
  {
   "cell_type": "code",
   "execution_count": 2,
   "metadata": {},
   "outputs": [
    {
     "name": "stdout",
     "output_type": "stream",
     "text": [
      "['The Weirdstone of Brisingamen', 'Alan Garner', '1960']\n"
     ]
    }
   ],
   "source": [
    "import sqlite3\n",
    "import csv\n",
    "\n",
    "conn = sqlite3.connect(\"book6.db\")\n",
    "\n",
    "c =  conn.cursor()\n",
    "\n",
    "# c.execute(\"\"\"CREATE TABLE book6 (title text,\n",
    "# author text,\n",
    "# year integer)\"\"\")\n",
    "\n",
    "# conn.commit()\n",
    "# conn.close()\n",
    "\n",
    "filename = \"book.csv\"\n",
    "rr =[]\n",
    "f = []\n",
    "with open(filename, 'r') as csvfile:\n",
    "    # creating a csv reader object\n",
    "    csvreader = csv.reader(csvfile)\n",
    "      \n",
    "    # extracting field names through first row\n",
    "    f = next(csvreader)\n",
    "  \n",
    "    # extracting each data row one by one\n",
    "    for r in csvreader:\n",
    "        # print(r)\n",
    "        rr.append(r)\n",
    "r1 = rr[1]\n",
    "r3 = rr[3]\n",
    "r5 = rr[5]\n",
    "r7 = rr[7]\n",
    "print(r1)\n",
    "c.execute(\"INSERT INTO book6 (title,author,year) VALUES (?,?,?)\", r1)\n",
    "c.execute(\"INSERT INTO book6 (title,author,year) VALUES (?,?,?)\", r3)\n",
    "c.execute(\"INSERT INTO book6 (title,author,year) VALUES (?,?,?)\", r5)\n",
    "c.execute(\"INSERT INTO book6 (title,author,year) VALUES (?,?,?)\", r7)\n",
    "\n",
    "conn.commit()"
   ]
  },
  {
   "cell_type": "markdown",
   "metadata": {},
   "source": [
    "Select and print the title column from the book table in alphabetical order."
   ]
  },
  {
   "cell_type": "code",
   "execution_count": 3,
   "metadata": {},
   "outputs": [
    {
     "name": "stdout",
     "output_type": "stream",
     "text": [
      "The Weirdstone of Brisingamen\n",
      "Alan Garner\n",
      "1960\n"
     ]
    }
   ],
   "source": [
    "c.execute(\"SELECT * FROM book6\")\n",
    "\n",
    "output = c.fetchall()\n",
    "\n",
    "for i in output[0]:\n",
    "    print(i)"
   ]
  },
  {
   "cell_type": "markdown",
   "metadata": {},
   "source": [
    "From the book table, select and print all columns in the order of publication."
   ]
  },
  {
   "cell_type": "code",
   "execution_count": 4,
   "metadata": {},
   "outputs": [
    {
     "name": "stdout",
     "output_type": "stream",
     "text": [
      "('The Weirdstone of Brisingamen', 'Alan Garner', 1960)\n",
      "('The Weirdstone of Brisingamen', 'Alan Garner', 1960)\n",
      "('Perdido Street Station', 'China Miéville', 2000)\n",
      "('Perdido Street Station', 'China Miéville', 2000)\n",
      "('Thud!', 'Terry Pratchett', 2005)\n",
      "('Thud!', 'Terry Pratchett', 2005)\n",
      "('The Spellman Files', 'Lisa Lutz', 2007)\n",
      "('The Spellman Files', 'Lisa Lutz', 2007)\n"
     ]
    }
   ],
   "source": [
    "ordered = c.execute(\"SELECT * FROM book6 ORDER BY year\")\n",
    "for o in ordered:\n",
    "    print(o)"
   ]
  },
  {
   "cell_type": "markdown",
   "metadata": {},
   "source": [
    "Use the sqlalchemy module to connect to the sqlite3 database books.db that you just made in\n",
    "exercise 6."
   ]
  },
  {
   "cell_type": "code",
   "execution_count": 5,
   "metadata": {},
   "outputs": [],
   "source": [
    "import sqlalchemy as db\n",
    "engine = db.create_engine('sqlite:///book6.db')\n",
    "conn = engine.connect()"
   ]
  },
  {
   "cell_type": "code",
   "execution_count": null,
   "metadata": {},
   "outputs": [],
   "source": []
  },
  {
   "cell_type": "code",
   "execution_count": null,
   "metadata": {},
   "outputs": [],
   "source": []
  }
 ],
 "metadata": {
  "interpreter": {
   "hash": "488534552fc1551c4d1043d095b23325ee83aaa60498aad566b3154057b8b9e9"
  },
  "kernelspec": {
   "display_name": "Python 3.9.1 64-bit",
   "language": "python",
   "name": "python3"
  },
  "language_info": {
   "codemirror_mode": {
    "name": "ipython",
    "version": 3
   },
   "file_extension": ".py",
   "mimetype": "text/x-python",
   "name": "python",
   "nbconvert_exporter": "python",
   "pygments_lexer": "ipython3",
   "version": "3.9.1"
  },
  "orig_nbformat": 4
 },
 "nbformat": 4,
 "nbformat_minor": 2
}
