{
 "cells": [
  {
   "cell_type": "markdown",
   "metadata": {},
   "source": [
    "What is the difference between shutil.copy() and shutil.copytree()?\n",
    "\n",
    "The first shutil.copy() call copies the file at C:\\Users\\Al\\spam.txt to the folder C:\\Users\\Al\\some_folder. The return value is the path of the newly copied file\n",
    "\n",
    "shutil.copytree() will copy an entire folder and every folder and file contained in it. Calling shutil.copytree(source, destination) will copy the folder at the path source, along with all of its files and subfolders, to the folder at the path destination."
   ]
  },
  {
   "cell_type": "markdown",
   "metadata": {},
   "source": [
    "What function is used to rename files??\n",
    "\n",
    " shutil.move(source, destination)"
   ]
  },
  {
   "cell_type": "markdown",
   "metadata": {},
   "source": [
    "What is the difference between the delete functions in the send2trash and shutil modules?\n",
    "\n",
    "shutil.rmtree() function irreversibly deletes files and folders\n",
    "\n",
    "\n",
    "send2trash is much safer than Python’s regular delete functions, because it will send folders and files to your computer’s trash or recycle bin instead of permanently deleting them."
   ]
  },
  {
   "cell_type": "markdown",
   "metadata": {},
   "source": [
    "4.ZipFile objects have a close() method just like File objects’ close() method. What ZipFile method is equivalent to File objects’ open() method?\n",
    "\n",
    "ZipFile"
   ]
  },
  {
   "cell_type": "markdown",
   "metadata": {},
   "source": [
    "Create a programme that searches a folder tree for files with a certain file extension (such as .pdf or .jpg). Copy these files from whatever location they are in to a new folder."
   ]
  },
  {
   "cell_type": "code",
   "execution_count": 38,
   "metadata": {},
   "outputs": [
    {
     "name": "stdout",
     "output_type": "stream",
     "text": [
      "c:\\Users\\Jeos\\VS\\Assignments\\JPG\n",
      "c:\\Users\\Jeos\\VS\\Assignments/adversity.jpg\n",
      "c:\\Users\\Jeos\\VS\\Assignments\\JPG/adversity.jpg\n"
     ]
    }
   ],
   "source": [
    "\n",
    "\n",
    "import os, shutil\n",
    "\n",
    "dir_path = os.getcwd()\n",
    "directory = \"JPG\"\n",
    "path = os.path.join(dir_path,directory)\n",
    "destination = os.mkdir(path)\n",
    "print(path)\n",
    "  \n",
    "for root, dirs, files in os.walk(dir_path):\n",
    "    for file in files: \n",
    "  \n",
    "        # change the extension from '.mp3' to \n",
    "        # the one of your choice.\n",
    "        if file.endswith('.jpg'):\n",
    "            image_path = root+'/'+str(file)\n",
    "            print(image_path)\n",
    "            try:\n",
    "                shutil.copy(image_path,path)\n",
    "            except shutil.SameFileError:\n",
    "                pass"
   ]
  },
  {
   "cell_type": "code",
   "execution_count": null,
   "metadata": {},
   "outputs": [],
   "source": []
  }
 ],
 "metadata": {
  "interpreter": {
   "hash": "488534552fc1551c4d1043d095b23325ee83aaa60498aad566b3154057b8b9e9"
  },
  "kernelspec": {
   "display_name": "Python 3.9.1 64-bit",
   "language": "python",
   "name": "python3"
  },
  "language_info": {
   "codemirror_mode": {
    "name": "ipython",
    "version": 3
   },
   "file_extension": ".py",
   "mimetype": "text/x-python",
   "name": "python",
   "nbconvert_exporter": "python",
   "pygments_lexer": "ipython3",
   "version": "3.9.1"
  },
  "orig_nbformat": 4
 },
 "nbformat": 4,
 "nbformat_minor": 2
}
