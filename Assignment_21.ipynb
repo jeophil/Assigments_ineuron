{
 "cells": [
  {
   "cell_type": "markdown",
   "metadata": {},
   "source": [
    "Add the current date to the text file today.txt as a string."
   ]
  },
  {
   "cell_type": "code",
   "execution_count": 52,
   "metadata": {},
   "outputs": [],
   "source": [
    "f = open(\"today.txt\", \"w\")\n",
    "f.write(\"13-02-2022 hello there how are you doing\\n\")\n",
    "f.close()"
   ]
  },
  {
   "cell_type": "markdown",
   "metadata": {},
   "source": [
    "Read the text file today.txt into the string today_string"
   ]
  },
  {
   "cell_type": "code",
   "execution_count": 53,
   "metadata": {},
   "outputs": [
    {
     "name": "stdout",
     "output_type": "stream",
     "text": [
      "13-02-2022 hello there how are you doing\n",
      "\n"
     ]
    }
   ],
   "source": [
    "f = open(\"today.txt\", \"r\")\n",
    "today_string = f.read()\n",
    "print(today_string)\n",
    "type(today_string)\n",
    "f.close()"
   ]
  },
  {
   "cell_type": "markdown",
   "metadata": {},
   "source": [
    "Parse the date from today_string."
   ]
  },
  {
   "cell_type": "code",
   "execution_count": 54,
   "metadata": {},
   "outputs": [
    {
     "name": "stdout",
     "output_type": "stream",
     "text": [
      "String is in file :::: 13-02-2022\n"
     ]
    }
   ],
   "source": [
    "\n",
    "f = open(\"today.txt\", \"r\")\n",
    "today_string = \"13-02-2022\"\n",
    "if today_string in f.read():\n",
    "    print(\"String is in file ::::\", today_string)\n",
    "else:\n",
    "    print(\"String is not in file\",  today_string)\n",
    "\n",
    "f.close()"
   ]
  },
  {
   "cell_type": "markdown",
   "metadata": {},
   "source": [
    "List the files in your current directory"
   ]
  },
  {
   "cell_type": "code",
   "execution_count": 55,
   "metadata": {},
   "outputs": [
    {
     "name": "stdout",
     "output_type": "stream",
     "text": [
      "['adversity.jpg', 'adversity.png', 'Assignment_1.ipynb', 'Assignment_10.ipynb', 'Assignment_11.ipynb', 'Assignment_12.ipynb', 'Assignment_13.ipynb', 'Assignment_14.ipynb', 'Assignment_16.ipynb', 'Assignment_17.ipynb', 'Assignment_18.ipynb', 'Assignment_19.ipynb', 'Assignment_2.ipynb', 'Assignment_20.ipynb', 'Assignment_21.ipynb', 'Assignment_3.ipynb', 'Assignment_4.ipynb', 'Assignment_5.ipynb', 'Assignment_6.ipynb', 'Assignment_7.ipynb', 'Assignment_8.ipynb', 'Assignment_9.ipynb', 'bacon.py', 'book.csv', 'book3.db', 'book5.db-journal', 'book6.db', 'helloworld.docx', 'JPG', 'multi_process_examplt.py', 'test.txt', 'today.txt', 'trial_csv.py', 'zoo.py', '__pycache__']\n"
     ]
    }
   ],
   "source": [
    "import os\n",
    "\n",
    "path = \"C:\\\\Users\\\\Jeos\\\\VS\\\\Assignments\"\n",
    "dir_list = os.listdir(path)\n",
    "print(dir_list)"
   ]
  },
  {
   "cell_type": "markdown",
   "metadata": {},
   "source": [
    "Create a list of all of the files in your parent directory (minimum five files should be available)."
   ]
  },
  {
   "cell_type": "code",
   "execution_count": 56,
   "metadata": {},
   "outputs": [
    {
     "name": "stdout",
     "output_type": "stream",
     "text": [
      "['4th_dec.py', 'AB_NYC_2019.csv', 'another.py', 'arrange.py', 'array.py', 'array2.py', 'Assignments', 'Assignment_2.docx', 'Automate_python', 'bar.py', 'book.csv', 'bubble.py', 'cube.py', 'd.txt', 'Data-manipulation_pandas.ipynb', 'dir', 'directory', 'ex2.zip', 'excel', 'FEM', 'heights.csv', 'income.csv', 'jeo.txt', 'logging', 'logging.ipynb', 'mean_median_mode.ipynb', 'mean_median_mode_exercise.ipynb', 'ML_beginners_shashank', 'modules_expections.ipynb', 'MySQL', 'nest.py', 'nested_try2.py', 'New_York_City_.png', 'odd_even.py', 'OOP.log', 'oops', 'OOPS.log', 'pattern.py', 'regex_tutorial_exercise_questions.ipynb.txt', 'regex_tutorial_exercise_questions_saved.ipynb', 'runner.py', 'sort.py', 'SQL_lite', 'std_dev.ipynb', 'Tableau', 'test.py', 'test1.py.txt', '__pycache__']\n"
     ]
    }
   ],
   "source": [
    "import os\n",
    "\n",
    "path = \"C:\\\\Users\\\\Jeos\\\\VS\"\n",
    "dir_list = os.listdir(path)\n",
    "print(dir_list)"
   ]
  },
  {
   "cell_type": "code",
   "execution_count": null,
   "metadata": {},
   "outputs": [],
   "source": []
  },
  {
   "cell_type": "markdown",
   "metadata": {},
   "source": [
    "Use multiprocessing to create three separate processes. Make each one wait a random number of\n",
    "seconds between one and five, print the current time, and then exit."
   ]
  },
  {
   "cell_type": "code",
   "execution_count": 57,
   "metadata": {},
   "outputs": [
    {
     "name": "stdout",
     "output_type": "stream",
     "text": [
      "multi pro time taken 6792.4757009\n"
     ]
    }
   ],
   "source": [
    "import time\n",
    "import multiprocessing\n",
    "\n",
    "def square(x):\n",
    "    print(x*x)\n",
    "    time.sleep(1)\n",
    "    print(\"done square\")\n",
    "\n",
    "def cube(x):\n",
    "    print(x*x*x)\n",
    "    time.sleep(1)\n",
    "    print(\"done cube\")\n",
    "\n",
    "p1 = multiprocessing.Process(target=square, args= [10])\n",
    "p3 = multiprocessing.Process(target=cube, args= [10])\n",
    "\n",
    "\n",
    "if __name__ == \"__main__\":\n",
    "    p1.start()\n",
    "    p3.start()\n",
    "    p1.join()\n",
    "    p3.join()\n",
    "finish_mp = time.perf_counter()\n",
    "print(\"multi pro time taken\", finish_mp)"
   ]
  },
  {
   "cell_type": "markdown",
   "metadata": {},
   "source": [
    "Create a date object of your day of birth."
   ]
  },
  {
   "cell_type": "code",
   "execution_count": 62,
   "metadata": {},
   "outputs": [
    {
     "data": {
      "text/plain": [
       "datetime.date(1996, 7, 1)"
      ]
     },
     "execution_count": 62,
     "metadata": {},
     "output_type": "execute_result"
    }
   ],
   "source": [
    "from datetime import date\n",
    "from datetime import timedelta\n",
    "\n",
    "dob = date(1996, 7, 1)\n",
    "dob"
   ]
  },
  {
   "cell_type": "markdown",
   "metadata": {},
   "source": [
    "What day of the week was your day of birth?"
   ]
  },
  {
   "cell_type": "code",
   "execution_count": 59,
   "metadata": {},
   "outputs": [
    {
     "data": {
      "text/plain": [
       "27"
      ]
     },
     "execution_count": 59,
     "metadata": {},
     "output_type": "execute_result"
    }
   ],
   "source": [
    "dob.isocalendar().week"
   ]
  },
  {
   "cell_type": "markdown",
   "metadata": {},
   "source": [
    "When will you be (or when were you) 10,000 days old?"
   ]
  },
  {
   "cell_type": "code",
   "execution_count": 66,
   "metadata": {},
   "outputs": [
    {
     "name": "stdout",
     "output_type": "stream",
     "text": [
      "17 11 2023\n"
     ]
    }
   ],
   "source": [
    "end = timedelta(days=10000) + dob\n",
    "print(end.day,\n",
    "end.month,\n",
    "end.year)"
   ]
  },
  {
   "cell_type": "code",
   "execution_count": null,
   "metadata": {},
   "outputs": [],
   "source": []
  },
  {
   "cell_type": "code",
   "execution_count": null,
   "metadata": {},
   "outputs": [],
   "source": []
  },
  {
   "cell_type": "markdown",
   "metadata": {},
   "source": []
  }
 ],
 "metadata": {
  "interpreter": {
   "hash": "488534552fc1551c4d1043d095b23325ee83aaa60498aad566b3154057b8b9e9"
  },
  "kernelspec": {
   "display_name": "Python 3.9.1 64-bit",
   "language": "python",
   "name": "python3"
  },
  "language_info": {
   "codemirror_mode": {
    "name": "ipython",
    "version": 3
   },
   "file_extension": ".py",
   "mimetype": "text/x-python",
   "name": "python",
   "nbconvert_exporter": "python",
   "pygments_lexer": "ipython3",
   "version": "3.9.1"
  },
  "orig_nbformat": 4
 },
 "nbformat": 4,
 "nbformat_minor": 2
}
