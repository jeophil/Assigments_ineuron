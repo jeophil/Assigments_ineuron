{
 "cells": [
  {
   "cell_type": "code",
   "execution_count": null,
   "metadata": {},
   "outputs": [],
   "source": []
  },
  {
   "cell_type": "markdown",
   "metadata": {},
   "source": [
    "#### What does RGBA stand for?\n",
    "\n",
    "It red  green blue alpa"
   ]
  },
  {
   "cell_type": "markdown",
   "metadata": {},
   "source": [
    "#### 2. From the Pillow module, how do you get the RGBA value of any images?\n",
    "\n",
    "img = Image.open(‘image.png’)\n",
    "\n",
    "rgba = img.convert(“RGBA”)\n",
    "\n",
    "datas = rgba.getdata()"
   ]
  },
  {
   "cell_type": "markdown",
   "metadata": {},
   "source": [
    "#### What is a box tuple, and how does it work?\n",
    "\n",
    "a box tuple of four integer coordinates that represent a rectangular region in an image. \n",
    "\n",
    "\n"
   ]
  },
  {
   "cell_type": "markdown",
   "metadata": {},
   "source": [
    "#### Use your image and load in notebook then, How can you find out the width and height of an\n",
    "Image object?"
   ]
  },
  {
   "cell_type": "code",
   "execution_count": 2,
   "metadata": {},
   "outputs": [
    {
     "data": {
      "text/plain": [
       "(1675, 1033)"
      ]
     },
     "execution_count": 2,
     "metadata": {},
     "output_type": "execute_result"
    }
   ],
   "source": [
    "from PIL import Image\n",
    "\n",
    "img = Image.open(\"adversity.jpg\")\n",
    "img.size"
   ]
  },
  {
   "cell_type": "markdown",
   "metadata": {},
   "source": [
    "#### What method would you call to get Image object for a 100×100 image, excluding the lower-left\n",
    "quarter of it?\n",
    "\n",
    "crop funtion"
   ]
  },
  {
   "cell_type": "markdown",
   "metadata": {},
   "source": [
    "#### After making changes to an Image object, how could you save it as an image file?\n",
    "\n",
    "using save()"
   ]
  },
  {
   "cell_type": "markdown",
   "metadata": {},
   "source": [
    "#### What module contains Pillow’s shape-drawing code?\n",
    "\n",
    " ImageDraw"
   ]
  },
  {
   "cell_type": "markdown",
   "metadata": {},
   "source": [
    "#### Image objects do not have drawing methods. What kind of object does? How do you get this kind\n",
    "of object?\n",
    "\n",
    "ImageDraw object"
   ]
  },
  {
   "cell_type": "markdown",
   "metadata": {},
   "source": []
  }
 ],
 "metadata": {
  "interpreter": {
   "hash": "488534552fc1551c4d1043d095b23325ee83aaa60498aad566b3154057b8b9e9"
  },
  "kernelspec": {
   "display_name": "Python 3.9.1 64-bit",
   "language": "python",
   "name": "python3"
  },
  "language_info": {
   "codemirror_mode": {
    "name": "ipython",
    "version": 3
   },
   "file_extension": ".py",
   "mimetype": "text/x-python",
   "name": "python",
   "nbconvert_exporter": "python",
   "pygments_lexer": "ipython3",
   "version": "3.9.1"
  },
  "orig_nbformat": 4
 },
 "nbformat": 4,
 "nbformat_minor": 2
}
