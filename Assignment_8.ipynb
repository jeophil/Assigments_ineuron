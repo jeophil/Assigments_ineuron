{
 "cells": [
  {
   "cell_type": "markdown",
   "metadata": {},
   "source": [
    "Is the Python Standard Library included with PyInputPlus?\n",
    "\n",
    "No"
   ]
  },
  {
   "cell_type": "markdown",
   "metadata": {},
   "source": [
    "Why is PyInputPlus commonly imported with import pyinputplus as pypi?\n",
    "\n",
    "so that you can enter a shorter name when calling the module’s functions."
   ]
  },
  {
   "cell_type": "markdown",
   "metadata": {},
   "source": [
    "What is the difference between inputInt() and inputFloat()?\n",
    "\n",
    "The inputInt() function is used to take integer inputs. If any non-integer input is passed, the function retries until a valid input is given, time runs out or maximum number of tries exceed.\n",
    "\n",
    "The inputInt() function is used to take float inputs"
   ]
  },
  {
   "cell_type": "markdown",
   "metadata": {},
   "source": [
    "Using PyInputPlus, how do you ensure that the user enters a whole number between 0 and 99?"
   ]
  },
  {
   "cell_type": "code",
   "execution_count": 5,
   "metadata": {},
   "outputs": [
    {
     "name": "stdout",
     "output_type": "stream",
     "text": [
      "Enter an Integer... "
     ]
    },
    {
     "data": {
      "text/plain": [
       "56"
      ]
     },
     "execution_count": 5,
     "metadata": {},
     "output_type": "execute_result"
    }
   ],
   "source": [
    "\n",
    "import pyinputplus as pyip\n",
    "  \n",
    "# integer input with\n",
    "# specific bounds\n",
    "inp = pyip.inputInt(prompt = \"Enter an Integer... \",\n",
    "                    min = 0, lessThan = 100 )\n",
    "  \n",
    "inp"
   ]
  },
  {
   "cell_type": "markdown",
   "metadata": {},
   "source": [
    "What is transferred to the keyword arguments allowRegexes and blockRegexes?\n",
    "\n",
    "allowRegexes and blockRegexes keyword arguments take a list of regular expression strings to determine what the PyInputPlus function will accept or reject as valid input."
   ]
  },
  {
   "cell_type": "markdown",
   "metadata": {},
   "source": [
    "If a blank input is entered three times, what does inputStr(limit=3) do?\n",
    "\n",
    "leads to error "
   ]
  },
  {
   "cell_type": "markdown",
   "metadata": {},
   "source": [
    "If blank input is entered three times, what does inputStr(limit=3, default=&#39;hello&#39;) do?\n",
    "\n",
    "once the limit is reached the default is taken as the input"
   ]
  },
  {
   "cell_type": "code",
   "execution_count": 8,
   "metadata": {},
   "outputs": [
    {
     "name": "stdout",
     "output_type": "stream",
     "text": [
      "Enter a String... Blank values are not allowed.\n",
      "Enter a String... Blank values are not allowed.\n",
      "Enter a String... Blank values are not allowed.\n"
     ]
    },
    {
     "data": {
      "text/plain": [
       "'hello'"
      ]
     },
     "execution_count": 8,
     "metadata": {},
     "output_type": "execute_result"
    }
   ],
   "source": [
    "\n",
    "inp = pyip.inputStr(prompt = \"Enter a String... \",limit= 3,default= 'hello')\n",
    "  \n",
    "inp"
   ]
  },
  {
   "cell_type": "code",
   "execution_count": null,
   "metadata": {},
   "outputs": [],
   "source": []
  }
 ],
 "metadata": {
  "interpreter": {
   "hash": "488534552fc1551c4d1043d095b23325ee83aaa60498aad566b3154057b8b9e9"
  },
  "kernelspec": {
   "display_name": "Python 3.9.1 64-bit",
   "language": "python",
   "name": "python3"
  },
  "language_info": {
   "codemirror_mode": {
    "name": "ipython",
    "version": 3
   },
   "file_extension": ".py",
   "mimetype": "text/x-python",
   "name": "python",
   "nbconvert_exporter": "python",
   "pygments_lexer": "ipython3",
   "version": "3.9.1"
  },
  "orig_nbformat": 4
 },
 "nbformat": 4,
 "nbformat_minor": 2
}
